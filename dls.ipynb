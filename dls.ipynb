{
  "nbformat": 4,
  "nbformat_minor": 0,
  "metadata": {
    "colab": {
      "provenance": [],
      "authorship_tag": "ABX9TyOJmGcWN48b8RNQ80swkVS0",
      "include_colab_link": true
    },
    "kernelspec": {
      "name": "python3",
      "display_name": "Python 3"
    },
    "language_info": {
      "name": "python"
    }
  },
  "cells": [
    {
      "cell_type": "markdown",
      "metadata": {
        "id": "view-in-github",
        "colab_type": "text"
      },
      "source": [
        "<a href=\"https://colab.research.google.com/github/tharunpraveen/ai_lab/blob/main/dls.ipynb\" target=\"_parent\"><img src=\"https://colab.research.google.com/assets/colab-badge.svg\" alt=\"Open In Colab\"/></a>"
      ]
    },
    {
      "cell_type": "code",
      "execution_count": 2,
      "metadata": {
        "colab": {
          "base_uri": "https://localhost:8080/"
        },
        "id": "MJLWYm6H2Mn2",
        "outputId": "69ced01c-c69a-465d-ac59-b26ba468783f"
      },
      "outputs": [
        {
          "output_type": "stream",
          "name": "stdout",
          "text": [
            "Enter the graph as a dictionary: {'A': ['B', 'C'], 'B': ['D', 'E'], 'C': ['F'], 'D': [], 'E': ['F'], 'F': []}\n",
            "Enter the start node: A\n",
            "Enter the goal node: F\n",
            "Enter the depth limit: 3\n",
            "Path found: ['A', 'B', 'E', 'F']\n"
          ]
        }
      ],
      "source": [
        "def dls(node, goal, graph, limit):\n",
        "    def recursive_dls(current_node, current_depth):\n",
        "        if current_node == goal:\n",
        "            return [current_node]\n",
        "        if current_depth == limit:\n",
        "            return None\n",
        "        for neighbor in graph.get(current_node, []):\n",
        "            path = recursive_dls(neighbor, current_depth + 1)\n",
        "            if path is not None:\n",
        "                return [current_node] + path\n",
        "        return None\n",
        "\n",
        "    return recursive_dls(node, 0)\n",
        "\n",
        "# Taking input from the user\n",
        "graph = eval(input(\"Enter the graph as a dictionary: \"))\n",
        "start_node = input(\"Enter the start node: \")\n",
        "goal_node = input(\"Enter the goal node: \")\n",
        "depth_limit = int(input(\"Enter the depth limit: \"))\n",
        "\n",
        "path = dls(start_node, goal_node, graph, depth_limit)\n",
        "if path:\n",
        "    print(\"Path found:\", path)\n",
        "else:\n",
        "    print(\"No path found within the depth limit\")\n"
      ]
    }
  ]
}