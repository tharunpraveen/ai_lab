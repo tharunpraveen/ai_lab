{
  "nbformat": 4,
  "nbformat_minor": 0,
  "metadata": {
    "colab": {
      "provenance": [],
      "toc_visible": true,
      "authorship_tag": "ABX9TyN2K2EOnaNEKy6Nf9TI7I+v",
      "include_colab_link": true
    },
    "kernelspec": {
      "name": "python3",
      "display_name": "Python 3"
    },
    "language_info": {
      "name": "python"
    }
  },
  "cells": [
    {
      "cell_type": "markdown",
      "metadata": {
        "id": "view-in-github",
        "colab_type": "text"
      },
      "source": [
        "<a href=\"https://colab.research.google.com/github/tharunpraveen/ai_lab/blob/main/crypt%20arithmetic.ipynb\" target=\"_parent\"><img src=\"https://colab.research.google.com/assets/colab-badge.svg\" alt=\"Open In Colab\"/></a>"
      ]
    },
    {
      "cell_type": "code",
      "execution_count": 6,
      "metadata": {
        "colab": {
          "base_uri": "https://localhost:8080/"
        },
        "id": "lNmcSaMUois-",
        "outputId": "4007c63b-f57e-42d4-f19d-595602d6b70e"
      },
      "outputs": [
        {
          "output_type": "stream",
          "name": "stdout",
          "text": [
            "Enter the cryptarithmetic puzzle (words separated by spaces): send more money\n",
            "Solution: {'m': 1, 's': 9, 'o': 0, 'd': 7, 'n': 6, 'r': 8, 'y': 2, 'e': 5}\n"
          ]
        }
      ],
      "source": [
        "import itertools\n",
        "def number(word, digit_map):\n",
        "    return int(''.join(str(digit_map[letter]) for letter in word))\n",
        "def solve_cryptarithmetic(puzzle):\n",
        "    words = puzzle.split()\n",
        "    unique_characters = set(''.join(words))\n",
        "    if len(unique_characters) > 10: #NO MORE THAN 10 UNIQUE CHARS (0-9)\n",
        "        return \"Invalid puzzle: More than 10 unique characters\"\n",
        "    leading_characters = set(word[0] for word in words)\n",
        "    if len(leading_characters) > 2:\n",
        "        return \"Invalid puzzle: More than 2 words start with the same character\"\n",
        "    for digits in itertools.permutations(range(10), len(unique_characters)):\n",
        "        digit_map = dict(zip(unique_characters, digits))\n",
        "        if all(digit_map[word[0]] != 0 for word in leading_characters):\n",
        "            if sum(number(word, digit_map) for word in words[:-1]) == number(words[-1], digit_map):\n",
        "                return digit_map\n",
        "    return \"No solution found\"\n",
        "puzzle = input(\"Enter the cryptarithmetic puzzle (words separated by spaces): \")\n",
        "solution = solve_cryptarithmetic(puzzle)\n",
        "print(\"Solution:\", solution)\n"
      ]
    },
    {
      "cell_type": "code",
      "source": [
        "import itertools\n",
        "\n",
        "def number(word, digit_map):\n",
        "    return int(''.join(str(digit_map[letter]) for letter in word))\n",
        "\n",
        "def solve_cryptarithmetic(puzzle):\n",
        "    words = puzzle.split()\n",
        "    unique_characters = set(''.join(words))\n",
        "\n",
        "    if len(unique_characters) > 10:\n",
        "        return \"Invalid puzzle: More than 10 unique characters\"\n",
        "\n",
        "    leading_characters = {word[0] for word in words}\n",
        "\n",
        "    for digits in itertools.permutations(range(10), len(unique_characters)):\n",
        "        digit_map = dict(zip(unique_characters, digits))\n",
        "\n",
        "        if all(digit_map[ch] != 0 for ch in leading_characters):\n",
        "            if sum(number(word, digit_map) for word in words[:-1]) == number(words[-1], digit_map):\n",
        "                return digit_map\n",
        "\n",
        "    return \"No solution found\"\n",
        "\n",
        "# Usage example\n",
        "puzzle = input(\"Enter the cryptarithmetic puzzle (words separated by spaces): \")\n",
        "solution = solve_cryptarithmetic(puzzle)\n",
        "print(\"Solution:\", solution)\n"
      ],
      "metadata": {
        "colab": {
          "base_uri": "https://localhost:8080/"
        },
        "id": "j-pOn3VJsZmD",
        "outputId": "c47c7f18-448a-46b7-c8b3-f345fa5d2629"
      },
      "execution_count": 7,
      "outputs": [
        {
          "output_type": "stream",
          "name": "stdout",
          "text": [
            "Enter the cryptarithmetic puzzle (words separated by spaces): send more money\n",
            "Solution: {'m': 1, 's': 9, 'o': 0, 'd': 7, 'n': 6, 'r': 8, 'y': 2, 'e': 5}\n"
          ]
        }
      ]
    }
  ]
}