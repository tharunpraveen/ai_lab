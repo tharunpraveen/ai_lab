{
  "nbformat": 4,
  "nbformat_minor": 0,
  "metadata": {
    "colab": {
      "provenance": [],
      "authorship_tag": "ABX9TyNMMWTPNiSCpOYL1PEZfjRj",
      "include_colab_link": true
    },
    "kernelspec": {
      "name": "python3",
      "display_name": "Python 3"
    },
    "language_info": {
      "name": "python"
    }
  },
  "cells": [
    {
      "cell_type": "markdown",
      "metadata": {
        "id": "view-in-github",
        "colab_type": "text"
      },
      "source": [
        "<a href=\"https://colab.research.google.com/github/tharunpraveen/ai_lab/blob/main/bfs.ipynb\" target=\"_parent\"><img src=\"https://colab.research.google.com/assets/colab-badge.svg\" alt=\"Open In Colab\"/></a>"
      ]
    },
    {
      "cell_type": "code",
      "execution_count": 8,
      "metadata": {
        "colab": {
          "base_uri": "https://localhost:8080/"
        },
        "id": "zgBCTu-f0ZPO",
        "outputId": "f3636c92-4a32-463a-c68d-43f559af7b55"
      },
      "outputs": [
        {
          "output_type": "stream",
          "name": "stdout",
          "text": [
            "Enter the graph as a dictionary: {'A': ['B', 'C'], 'B': ['A', 'D'], 'C': ['A', 'D'], 'D': ['B', 'C']}\n",
            "Enter the start node: A\n",
            "Enter the goal node: D\n",
            "Path from A to D : ['A', 'B', 'D']\n"
          ]
        }
      ],
      "source": [
        "from collections import deque\n",
        "\n",
        "def bfs(graph, start, goal):\n",
        "    queue = deque([(start, [start])])\n",
        "    visited = set()\n",
        "\n",
        "    while queue:\n",
        "        current_node, path = queue.popleft()\n",
        "\n",
        "        if current_node == goal:\n",
        "            return path\n",
        "\n",
        "        visited.add(current_node)\n",
        "\n",
        "        for neighbor in graph[current_node]:\n",
        "            if neighbor not in visited:\n",
        "                queue.append((neighbor, path + [neighbor]))\n",
        "\n",
        "    return None\n",
        "\n",
        "# Input for the graph\n",
        "graph = eval(input(\"Enter the graph as a dictionary: \"))\n",
        "\n",
        "# Input for the start node and goal node\n",
        "start_node = input(\"Enter the start node: \")\n",
        "goal_node = input(\"Enter the goal node: \")\n",
        "\n",
        "# Call BFS function\n",
        "path = bfs(graph, start_node, goal_node)\n",
        "\n",
        "# Print result\n",
        "if path:\n",
        "    print(\"Path from\", start_node, \"to\", goal_node, \":\", path)\n",
        "else:\n",
        "    print(\"Goal node is not reachable from the start node.\")\n"
      ]
    }
  ]
}