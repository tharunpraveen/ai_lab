{
  "nbformat": 4,
  "nbformat_minor": 0,
  "metadata": {
    "colab": {
      "provenance": [],
      "authorship_tag": "ABX9TyM9gbLS0qIYbHi2cSKrwpuI",
      "include_colab_link": true
    },
    "kernelspec": {
      "name": "python3",
      "display_name": "Python 3"
    },
    "language_info": {
      "name": "python"
    }
  },
  "cells": [
    {
      "cell_type": "markdown",
      "metadata": {
        "id": "view-in-github",
        "colab_type": "text"
      },
      "source": [
        "<a href=\"https://colab.research.google.com/github/tharunpraveen/ai_lab/blob/main/bfs.ipynb\" target=\"_parent\"><img src=\"https://colab.research.google.com/assets/colab-badge.svg\" alt=\"Open In Colab\"/></a>"
      ]
    },
    {
      "cell_type": "code",
      "execution_count": 7,
      "metadata": {
        "colab": {
          "base_uri": "https://localhost:8080/"
        },
        "id": "zgBCTu-f0ZPO",
        "outputId": "005013dd-9e37-4455-ba95-fa83c8ea4201"
      },
      "outputs": [
        {
          "output_type": "stream",
          "name": "stdout",
          "text": [
            "Path from A to F : ['A', 'C', 'F']\n"
          ]
        }
      ],
      "source": [
        "from collections import deque\n",
        "\n",
        "def bfs(graph, start, goal):\n",
        "    # Queue for BFS\n",
        "    queue = deque([(start, [start])])\n",
        "    # Set to keep track of visited nodes\n",
        "    visited = set()\n",
        "\n",
        "    while queue:\n",
        "        # Pop the first node from the queue\n",
        "        current_node, path = queue.popleft()\n",
        "\n",
        "        # Check if the current node is the goal node\n",
        "        if current_node == goal:\n",
        "            return path  # Return the path to the goal node\n",
        "\n",
        "        # Mark the current node as visited\n",
        "        visited.add(current_node)\n",
        "\n",
        "        # Explore neighbors of the current node\n",
        "        for neighbor in graph[current_node]:\n",
        "            if neighbor not in visited:\n",
        "                # Add neighbor to the queue along with the updated path\n",
        "                queue.append((neighbor, path + [neighbor]))\n",
        "\n",
        "    # Goal node not reachable\n",
        "    return None\n",
        "\n",
        "# Example graph representation (adjacency list)\n",
        "graph = {\n",
        "    'A': ['B', 'C'],\n",
        "    'B': ['D', 'E'],\n",
        "    'C': ['F'],\n",
        "    'D': [],\n",
        "    'E': ['F'],\n",
        "    'F': []\n",
        "}\n",
        "\n",
        "# Example start and goal nodes\n",
        "start_node = 'A'\n",
        "goal_node = 'F'\n",
        "\n",
        "# Call BFS function\n",
        "path = bfs(graph, start_node, goal_node)\n",
        "\n",
        "# Print result\n",
        "if path:\n",
        "    print(\"Path from\", start_node, \"to\", goal_node, \":\", path)\n",
        "else:\n",
        "    print(\"Goal node is not reachable from the start node.\")\n"
      ]
    }
  ]
}