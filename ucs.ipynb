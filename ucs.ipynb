{
  "nbformat": 4,
  "nbformat_minor": 0,
  "metadata": {
    "colab": {
      "provenance": [],
      "authorship_tag": "ABX9TyN7lr/k4MNQpWFdnz0TXXMG",
      "include_colab_link": true
    },
    "kernelspec": {
      "name": "python3",
      "display_name": "Python 3"
    },
    "language_info": {
      "name": "python"
    }
  },
  "cells": [
    {
      "cell_type": "markdown",
      "metadata": {
        "id": "view-in-github",
        "colab_type": "text"
      },
      "source": [
        "<a href=\"https://colab.research.google.com/github/tharunpraveen/ai_lab/blob/main/ucs.ipynb\" target=\"_parent\"><img src=\"https://colab.research.google.com/assets/colab-badge.svg\" alt=\"Open In Colab\"/></a>"
      ]
    },
    {
      "cell_type": "code",
      "execution_count": null,
      "metadata": {
        "id": "MJLWYm6H2Mn2"
      },
      "outputs": [],
      "source": [
        "import heapq\n",
        "\n",
        "def ucs(graph, start, goal):\n",
        "    # Priority queue to store (cost, path)\n",
        "    queue = [(0, [start])]\n",
        "    visited = set()\n",
        "\n",
        "    while queue:\n",
        "        # Get the path with the lowest cost\n",
        "        cost, path = heapq.heappop(queue)\n",
        "        node = path[-1]\n",
        "\n",
        "        if node in visited:\n",
        "            continue\n",
        "\n",
        "        visited.add(node)\n",
        "\n",
        "        # Goal check\n",
        "        if node == goal:\n",
        "            return cost, path\n",
        "\n",
        "        # Explore neighbors\n",
        "        for neighbor, edge_cost in graph[node]:\n",
        "            if neighbor not in visited:\n",
        "                heapq.heappush(queue, (cost + edge_cost, path + [neighbor]))\n",
        "\n",
        "    return float('inf'), []  # If no path is found\n",
        "\n",
        "# Example usage\n",
        "graph = {\n",
        "    'A': [('B', 1), ('C', 4)],\n",
        "    'B': [('A', 1), ('C', 2), ('D', 5)],\n",
        "    'C': [('A', 4), ('B', 2), ('D', 1)],\n",
        "    'D': [('B', 5), ('C', 1)]\n",
        "}\n",
        "start = 'A'\n",
        "goal = 'D'\n",
        "\n",
        "cost, path = ucs(graph, start, goal)\n",
        "print(\"Cost:\", cost)\n",
        "print(\"Path:\", path)\n"
      ]
    }
  ]
}