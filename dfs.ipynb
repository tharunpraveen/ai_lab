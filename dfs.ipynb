{
  "nbformat": 4,
  "nbformat_minor": 0,
  "metadata": {
    "colab": {
      "provenance": [],
      "authorship_tag": "ABX9TyP/a6XLBFGkStaHg1JUq6Mw",
      "include_colab_link": true
    },
    "kernelspec": {
      "name": "python3",
      "display_name": "Python 3"
    },
    "language_info": {
      "name": "python"
    }
  },
  "cells": [
    {
      "cell_type": "markdown",
      "metadata": {
        "id": "view-in-github",
        "colab_type": "text"
      },
      "source": [
        "<a href=\"https://colab.research.google.com/github/tharunpraveen/ai_lab/blob/main/dfs.ipynb\" target=\"_parent\"><img src=\"https://colab.research.google.com/assets/colab-badge.svg\" alt=\"Open In Colab\"/></a>"
      ]
    },
    {
      "cell_type": "code",
      "execution_count": null,
      "metadata": {
        "id": "50q0AdBC-eoa"
      },
      "outputs": [],
      "source": [
        "def dfs(graph, start, goal):\n",
        "    stack = [(start, [start])]  # Stack for DFS\n",
        "    visited = set()  # Set to keep track of visited nodes\n",
        "\n",
        "    while stack:\n",
        "        current_node, path = stack.pop()  # Pop the last node from the stack\n",
        "\n",
        "        if current_node == goal:\n",
        "            return path  # Return the path if the goal node is found\n",
        "\n",
        "        visited.add(current_node)  # Mark the current node as visited\n",
        "\n",
        "        # Explore neighbors of the current node\n",
        "        for neighbor in graph[current_node]:\n",
        "            if neighbor not in visited:\n",
        "                stack.append((neighbor, path + [neighbor]))  # Add neighbor to the stack\n",
        "\n",
        "    return None  # Return None if the goal node is not reachable\n",
        "\n",
        "# Input for the graph\n",
        "graph = eval(input(\"Enter the graph as a dictionary: \"))\n",
        "\n",
        "# Input for the start node and goal node\n",
        "start_node = input(\"Enter the start node: \")\n",
        "goal_node = input(\"Enter the goal node: \")\n",
        "\n",
        "# Call DFS function\n",
        "path = dfs(graph, start_node, goal_node)\n",
        "\n",
        "# Print result\n",
        "if path:\n",
        "    print(\"Path from\", start_node, \"to\", goal_node, \":\", path)\n",
        "else:\n",
        "    print(\"Goal node is not reachable from the start node.\")"
      ]
    }
  ]
}