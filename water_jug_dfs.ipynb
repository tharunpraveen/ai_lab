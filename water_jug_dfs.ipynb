{
  "nbformat": 4,
  "nbformat_minor": 0,
  "metadata": {
    "colab": {
      "provenance": [],
      "authorship_tag": "ABX9TyOvlN8LADEeLnTnA3/rBken",
      "include_colab_link": true
    },
    "kernelspec": {
      "name": "python3",
      "display_name": "Python 3"
    },
    "language_info": {
      "name": "python"
    }
  },
  "cells": [
    {
      "cell_type": "markdown",
      "metadata": {
        "id": "view-in-github",
        "colab_type": "text"
      },
      "source": [
        "<a href=\"https://colab.research.google.com/github/tharunpraveen/ai_lab/blob/main/water_jug_dfs.ipynb\" target=\"_parent\"><img src=\"https://colab.research.google.com/assets/colab-badge.svg\" alt=\"Open In Colab\"/></a>"
      ]
    },
    {
      "cell_type": "code",
      "execution_count": 3,
      "metadata": {
        "colab": {
          "base_uri": "https://localhost:8080/"
        },
        "id": "0oVXakiZ3ogs",
        "outputId": "63615ed7-1a00-47ec-b68a-9299895176a6"
      },
      "outputs": [
        {
          "output_type": "stream",
          "name": "stdout",
          "text": [
            "11\n",
            "Path:\n",
            "(0, 0)\n",
            "(0, 3)\n",
            "(3, 0)\n",
            "(3, 3)\n",
            "(5, 1)\n",
            "(5, 3)\n",
            "(5, 0)\n",
            "(2, 3)\n",
            "(2, 0)\n",
            "(0, 2)\n",
            "(5, 2)\n",
            "(4, 3)\n"
          ]
        }
      ],
      "source": [
        "class Waterjug:\n",
        "    def __init__(self, a, b, target):\n",
        "        self.a, self.b, self.target = a, b, target\n",
        "\n",
        "    def solution(self):\n",
        "        explored, frontier = [], []\n",
        "        frontier.append([0, 0, []])\n",
        "        while frontier:\n",
        "            x, y, path = frontier.pop()## pop(0) for bfs\n",
        "            if x == self.target or y == self.target:\n",
        "                return len(path), path + [(x, y)]\n",
        "            if [x, y] not in explored:\n",
        "                explored.append([x, y])\n",
        "                cp = path + [(x, y)]\n",
        "                frontier.append([0, y, cp])\n",
        "                frontier.append([x, 0, cp])\n",
        "                frontier.append([self.a, y, cp])\n",
        "                frontier.append([x, self.b, cp])\n",
        "                frontier.append([max(0, x - (self.b - y)), min(self.b, y + x), cp])\n",
        "                frontier.append([min(self.a, x + y), max(0, y - (self.a - x)), cp])\n",
        "\n",
        "steps, path = Waterjug(5, 3, 4).solution()\n",
        "if steps != -1:\n",
        "    print(steps)\n",
        "    print(\"Path:\")\n",
        "    for i in path:\n",
        "        print(i)\n"
      ]
    }
  ]
}