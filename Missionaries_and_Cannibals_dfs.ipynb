{
  "nbformat": 4,
  "nbformat_minor": 0,
  "metadata": {
    "colab": {
      "provenance": [],
      "authorship_tag": "ABX9TyMkU2/qwlI7tZRm1cBdupXn",
      "include_colab_link": true
    },
    "kernelspec": {
      "name": "python3",
      "display_name": "Python 3"
    },
    "language_info": {
      "name": "python"
    }
  },
  "cells": [
    {
      "cell_type": "markdown",
      "metadata": {
        "id": "view-in-github",
        "colab_type": "text"
      },
      "source": [
        "<a href=\"https://colab.research.google.com/github/tharunpraveen/ai_lab/blob/main/Missionaries_and_Cannibals_dfs.ipynb\" target=\"_parent\"><img src=\"https://colab.research.google.com/assets/colab-badge.svg\" alt=\"Open In Colab\"/></a>"
      ]
    },
    {
      "cell_type": "code",
      "execution_count": null,
      "metadata": {
        "colab": {
          "base_uri": "https://localhost:8080/"
        },
        "id": "0oVXakiZ3ogs",
        "outputId": "cbd8ac45-9ed8-4dac-f8a8-b5b364dd9ca7"
      },
      "outputs": [
        {
          "output_type": "stream",
          "name": "stdout",
          "text": [
            "Target Found\n",
            "Steps: 9\n",
            "Path:\n",
            "(3, 3, 1)\n",
            "(3, 1, 0)\n",
            "(3, 2, 1)\n",
            "(3, 0, 0)\n",
            "(3, 1, 1)\n",
            "(2, 0, 0)\n",
            "(2, 1, 1)\n",
            "(1, 0, 0)\n",
            "(1, 1, 1)\n",
            "(0, 0, 0)\n"
          ]
        }
      ],
      "source": [
        "class MissionariesAndCannibals:\n",
        "    def __init__(self, missionaries, cannibals, boat_capacity):\n",
        "        self.missionaries = missionaries\n",
        "        self.cannibals = cannibals\n",
        "        self.boat_capacity = boat_capacity\n",
        "\n",
        "    def solution(self):\n",
        "        explored = []\n",
        "        frontier = []\n",
        "        initial_state = (self.missionaries, self.cannibals, 1)  # Starting state: (M, C, side of the boat)\n",
        "        frontier.append((initial_state, []))  # (state, path)\n",
        "\n",
        "        while frontier:\n",
        "            node, path = frontier.pop()\n",
        "            state = node\n",
        "\n",
        "            if state == (0, 0, 0):  # Target state: (0, 0, 0) means all missionaries and cannibals on the other side\n",
        "                print(\"Target Found\")\n",
        "                return len(path), path + [state]\n",
        "\n",
        "            if state not in explored:\n",
        "                explored.append(state)\n",
        "                m, c, boat_side = state\n",
        "                cp = path + [state]\n",
        "\n",
        "                if boat_side == 1:  # Boat on the starting side\n",
        "                    # Generate possible moves\n",
        "                    for i in range(self.boat_capacity + 1):\n",
        "                        for j in range(self.boat_capacity + 1 - i):\n",
        "                            # Make sure there are enough missionaries and cannibals to move\n",
        "                            if 0 < i + j <= self.boat_capacity and m >= i and c >= j:\n",
        "                                new_state = (m - i, c - j, 0)  # Moving missionaries and cannibals to the other side\n",
        "                                frontier.append((new_state, cp))\n",
        "\n",
        "                else:  # Boat on the other side\n",
        "                    for i in range(self.boat_capacity + 1):\n",
        "                        for j in range(self.boat_capacity + 1 - i):\n",
        "                            if 0 < i + j <= self.boat_capacity and self.missionaries - m >= i and self.cannibals - c >= j:\n",
        "                                new_state = (m + i, c + j, 1)  # Moving missionaries and cannibals back\n",
        "                                frontier.append((new_state, cp))\n",
        "\n",
        "        return -1, None  # No solution found\n",
        "\n",
        "\n",
        "# Test the implementation\n",
        "steps, path = MissionariesAndCannibals(3, 3, 2).solution()\n",
        "if steps != -1:\n",
        "    print(\"Steps:\", steps)\n",
        "    print(\"Path:\")\n",
        "    for state in path:\n",
        "        print(state)\n",
        "else:\n",
        "    print(\"No solution found\")\n"
      ]
    }
  ]
}