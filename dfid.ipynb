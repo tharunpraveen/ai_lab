{
  "nbformat": 4,
  "nbformat_minor": 0,
  "metadata": {
    "colab": {
      "provenance": [],
      "authorship_tag": "ABX9TyNkN6e9RPsjJgrDNfr3lh8P",
      "include_colab_link": true
    },
    "kernelspec": {
      "name": "python3",
      "display_name": "Python 3"
    },
    "language_info": {
      "name": "python"
    }
  },
  "cells": [
    {
      "cell_type": "markdown",
      "metadata": {
        "id": "view-in-github",
        "colab_type": "text"
      },
      "source": [
        "<a href=\"https://colab.research.google.com/github/tharunpraveen/ai_lab/blob/main/dfid.ipynb\" target=\"_parent\"><img src=\"https://colab.research.google.com/assets/colab-badge.svg\" alt=\"Open In Colab\"/></a>"
      ]
    },
    {
      "cell_type": "code",
      "execution_count": 8,
      "metadata": {
        "colab": {
          "base_uri": "https://localhost:8080/"
        },
        "id": "zgBCTu-f0ZPO",
        "outputId": "f3636c92-4a32-463a-c68d-43f559af7b55"
      },
      "outputs": [
        {
          "output_type": "stream",
          "name": "stdout",
          "text": [
            "Enter the graph as a dictionary: {'A': ['B', 'C'], 'B': ['A', 'D'], 'C': ['A', 'D'], 'D': ['B', 'C']}\n",
            "Enter the start node: A\n",
            "Enter the goal node: D\n",
            "Path from A to D : ['A', 'B', 'D']\n"
          ]
        }
      ],
      "source": [
        "def dfs(graph, start, goal, max_depth):\n",
        "    for depth in range(max_depth + 1):\n",
        "        result = depth_limited_dfs(graph, start, goal, depth)\n",
        "        if result:\n",
        "            return result\n",
        "    return None\n",
        "\n",
        "def depth_limited_dfs(graph, current_node, goal, depth_limit, path=[]):\n",
        "    if current_node == goal:\n",
        "        return path + [current_node]\n",
        "    if depth_limit == 0:\n",
        "        return None\n",
        "    if current_node not in graph:\n",
        "        return None\n",
        "\n",
        "    for neighbor in graph[current_node]:\n",
        "        if neighbor not in path:\n",
        "            result = depth_limited_dfs(graph, neighbor, goal, depth_limit - 1, path + [current_node])\n",
        "            if result:\n",
        "                return result\n",
        "    return None\n",
        "\n",
        "# Example graph representation (adjacency list)\n",
        "graph = {\n",
        "    'A': ['B', 'C'],\n",
        "    'B': ['D', 'E'],\n",
        "    'C': ['F'],\n",
        "    'D': [],\n",
        "    'E': ['F'],\n",
        "    'F': []\n",
        "}\n",
        "\n",
        "# Example usage\n",
        "start_node = 'A'\n",
        "goal_node = 'F'\n",
        "max_depth = 3\n",
        "path = dfs(graph, start_node, goal_node, max_depth)\n",
        "if path:\n",
        "    print(\"Path from\", start_node, \"to\", goal_node, \":\", path)\n",
        "else:\n",
        "    print(\"Goal node is not reachable from the start node within the specified depth limit.\")\n"
      ]
    }
  ]
}