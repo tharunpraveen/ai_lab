{
  "nbformat": 4,
  "nbformat_minor": 0,
  "metadata": {
    "colab": {
      "provenance": [],
      "authorship_tag": "ABX9TyOjbFNDykGwNPufOIjS5sPL",
      "include_colab_link": true
    },
    "kernelspec": {
      "name": "python3",
      "display_name": "Python 3"
    },
    "language_info": {
      "name": "python"
    }
  },
  "cells": [
    {
      "cell_type": "markdown",
      "metadata": {
        "id": "view-in-github",
        "colab_type": "text"
      },
      "source": [
        "<a href=\"https://colab.research.google.com/github/tharunpraveen/ai_lab/blob/main/astar.ipynb\" target=\"_parent\"><img src=\"https://colab.research.google.com/assets/colab-badge.svg\" alt=\"Open In Colab\"/></a>"
      ]
    },
    {
      "cell_type": "code",
      "execution_count": 1,
      "metadata": {
        "colab": {
          "base_uri": "https://localhost:8080/"
        },
        "id": "zgBCTu-f0ZPO",
        "outputId": "13bfa65e-fd23-4221-cd39-50d23893c9ef"
      },
      "outputs": [
        {
          "output_type": "stream",
          "name": "stdout",
          "text": [
            "Enter the graph in dictionary format: {     'A': [('B', 5), ('C', 3)],     'B': [('D', 7)],     'C': [('D', 2)],     'D': [('E', 1)],     'E': [] }\n",
            "Enter the heuristic in dictionary format: {     'A': 4,     'B': 3,     'C': 2,     'D': 1,     'E': 0 }\n",
            "Enter the start node: A\n",
            "Enter the goal node: E\n",
            "['A', 'C', 'D', 'E']\n"
          ]
        }
      ],
      "source": [
        "from queue import PriorityQueue\n",
        "\n",
        "def astar(graph, start, goal, heuristic):\n",
        "    visited = set()\n",
        "    priority_queue = PriorityQueue()\n",
        "    priority_queue.put((0 + heuristic[start], 0, start))  # (f-value, g-value, node)\n",
        "    parent = {}\n",
        "    g_values = {node: float('inf') for node in graph}\n",
        "    g_values[start] = 0\n",
        "\n",
        "    while not priority_queue.empty():\n",
        "        _, cost, current_node = priority_queue.get()\n",
        "\n",
        "        if current_node == goal:\n",
        "            return reconstruct_path(parent, start, goal)\n",
        "\n",
        "        visited.add(current_node)\n",
        "\n",
        "        for neighbor, neighbor_cost in graph[current_node]:\n",
        "            new_cost = g_values[current_node] + neighbor_cost\n",
        "            if new_cost < g_values[neighbor]:\n",
        "                g_values[neighbor] = new_cost\n",
        "                priority_queue.put((new_cost + heuristic[neighbor], new_cost, neighbor))\n",
        "                parent[neighbor] = current_node\n",
        "\n",
        "    return \"Goal not reachable\"\n",
        "\n",
        "def reconstruct_path(parent, start, goal):\n",
        "    path = []\n",
        "    current_node = goal\n",
        "    while current_node != start:\n",
        "        path.append(current_node)\n",
        "        current_node = parent[current_node]\n",
        "    path.append(start)\n",
        "    path.reverse()\n",
        "    return path\n",
        "\n",
        "# Take input for the graph in dictionary format\n",
        "graph_input = input(\"Enter the graph in dictionary format: \")\n",
        "graph = eval(graph_input)\n",
        "\n",
        "# Take input for the heuristic in dictionary format\n",
        "heuristic_input = input(\"Enter the heuristic in dictionary format: \")\n",
        "heuristic = eval(heuristic_input)\n",
        "\n",
        "start_node = input(\"Enter the start node: \")\n",
        "goal_node = input(\"Enter the goal node: \")\n",
        "\n",
        "print(astar(graph, start_node, goal_node, heuristic))\n"
      ]
    }
  ]
}