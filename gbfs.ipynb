{
  "nbformat": 4,
  "nbformat_minor": 0,
  "metadata": {
    "colab": {
      "provenance": [],
      "authorship_tag": "ABX9TyNYJszT3vtC+EHSWNaQNMx8",
      "include_colab_link": true
    },
    "kernelspec": {
      "name": "python3",
      "display_name": "Python 3"
    },
    "language_info": {
      "name": "python"
    }
  },
  "cells": [
    {
      "cell_type": "markdown",
      "metadata": {
        "id": "view-in-github",
        "colab_type": "text"
      },
      "source": [
        "<a href=\"https://colab.research.google.com/github/tharunpraveen/ai_lab/blob/main/gbfs.ipynb\" target=\"_parent\"><img src=\"https://colab.research.google.com/assets/colab-badge.svg\" alt=\"Open In Colab\"/></a>"
      ]
    },
    {
      "cell_type": "code",
      "execution_count": 2,
      "metadata": {
        "colab": {
          "base_uri": "https://localhost:8080/"
        },
        "id": "zgBCTu-f0ZPO",
        "outputId": "f5950864-ec3a-4578-d72d-fa02af0e90d6"
      },
      "outputs": [
        {
          "output_type": "stream",
          "name": "stdout",
          "text": [
            "Enter the graph in dictionary format: {     'A': [('B', 5), ('C', 3)],     'B': [('D', 7)],     'C': [('D', 2)],     'D': [('E', 1)],     'E': [] }\n",
            "Enter the heuristic in dictionary format: {     'A': 4,     'B': 3,     'C': 2,     'D': 1,     'E': 0 }\n",
            "Enter the start node: A\n",
            "Enter the goal node: E\n",
            "Path: ['A', 'C', 'D', 'E']\n",
            "Total Cost: 6\n"
          ]
        }
      ],
      "source": [
        "from queue import PriorityQueue\n",
        "\n",
        "def gbfs(graph, start, goal, heuristic):\n",
        "    visited = set()\n",
        "    priority_queue = PriorityQueue()\n",
        "    priority_queue.put((heuristic[start], start))\n",
        "    parent = {}  # To store parent nodes for path reconstruction\n",
        "\n",
        "    while not priority_queue.empty():\n",
        "        estimated_cost, current_node = priority_queue.get()\n",
        "\n",
        "        if current_node == goal:\n",
        "            path = []\n",
        "            while current_node != start:\n",
        "                path.append(current_node)\n",
        "                current_node = parent[current_node]\n",
        "            path.append(start)\n",
        "            path.reverse()\n",
        "            total_cost = calculate_total_cost(path, graph)\n",
        "            print(\"Path:\", path)\n",
        "            print(\"Total Cost:\", total_cost)\n",
        "            return\n",
        "\n",
        "        visited.add(current_node)\n",
        "\n",
        "        for neighbor, neighbor_cost in graph[current_node]:\n",
        "            if neighbor not in visited:\n",
        "                priority_queue.put((heuristic[neighbor], neighbor))\n",
        "                parent[neighbor] = current_node\n",
        "\n",
        "    print(\"Goal not reachable\")\n",
        "\n",
        "def calculate_total_cost(path, graph):\n",
        "    total_cost = 0\n",
        "    for i in range(len(path) - 1):\n",
        "        current_node = path[i]\n",
        "        next_node = path[i + 1]\n",
        "        for neighbor, neighbor_cost in graph[current_node]:\n",
        "            if neighbor == next_node:\n",
        "                total_cost += neighbor_cost\n",
        "                break\n",
        "    return total_cost\n",
        "\n",
        "# Take input for the graph in dictionary format\n",
        "graph_input = input(\"Enter the graph in dictionary format: \")\n",
        "graph = eval(graph_input)\n",
        "\n",
        "# Take input for the heuristic in dictionary format\n",
        "heuristic_input = input(\"Enter the heuristic in dictionary format: \")\n",
        "heuristic = eval(heuristic_input)\n",
        "\n",
        "start_node = input(\"Enter the start node: \")\n",
        "goal_node = input(\"Enter the goal node: \")\n",
        "\n",
        "gbfs(graph, start_node, goal_node, heuristic)\n"
      ]
    }
  ]
}